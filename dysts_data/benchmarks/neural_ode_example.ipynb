{
 "cells": [
  {
   "cell_type": "markdown",
   "metadata": {},
   "source": [
    "### Imports"
   ]
  },
  {
   "cell_type": "code",
   "execution_count": 1,
   "metadata": {},
   "outputs": [],
   "source": [
    "import matplotlib.pyplot as plt\n",
    "import numpy as np\n",
    "import json\n",
    "import os\n",
    "import pandas as pd\n",
    "\n",
    "import dysts\n",
    "import dysts.flows\n",
    "\n",
    "%matplotlib inline\n",
    "%load_ext autoreload\n",
    "%autoreload 2"
   ]
  },
  {
   "cell_type": "markdown",
   "metadata": {},
   "source": [
    "# Run benchmark\n",
    "\n",
    "This benchmark requires [torchdiffeq](https://github.com/rtqichen/torchdiffeq) to be installed, as well as [sktime](https://www.sktime.org/en/latest/index.html) for scoring"
   ]
  },
  {
   "cell_type": "code",
   "execution_count": 98,
   "metadata": {},
   "outputs": [],
   "source": [
    "%%bash --out output --err error\n",
    "\n",
    "python3 node_benchmarks.py"
   ]
  },
  {
   "cell_type": "markdown",
   "metadata": {},
   "source": [
    "# Analyze results\n",
    "\n",
    "Some optional plotting utilities use [seaborn](https://github.com/mwaskom/seaborn) and [degas](https://github.com/williamgilpin/degas)"
   ]
  },
  {
   "cell_type": "code",
   "execution_count": 163,
   "metadata": {},
   "outputs": [],
   "source": [
    "cwd = os.getcwd()\n",
    "output_path = cwd + \"/results/results_neural_ode.json\"\n",
    "\n",
    "with open(output_path, \"r\") as file:\n",
    "    all_results_dict = json.load(file)\n",
    "all_results = pd.DataFrame(\n",
    "    [(item, all_results_dict[item][\"smape\"]) for item in all_results_dict],\n",
    "    columns=[\"name\", \"score\"],\n",
    ")\n",
    "all_results.set_index(\"name\", inplace=True)\n",
    "\n",
    "## Collect annotations\n",
    "\n",
    "\n",
    "attributes =  ['maximum_lyapunov_estimated', 'kaplan_yorke_dimension', \n",
    "               'multiscale_entropy', 'correlation_dimension']\n",
    "all_properties = dict()\n",
    "for equation_name in dysts.base.get_attractor_list():\n",
    "    eq = getattr(dysts.flows, equation_name)()\n",
    "    attr_vals = [getattr(eq, item, None) for item in attributes]\n",
    "    all_properties[equation_name] = dict(zip(attributes, attr_vals))\n",
    "all_properties = pd.DataFrame(all_properties).transpose().dropna()\n",
    "all_properties.index.rename(\"name\", inplace=True)\n",
    "# all_properties\n"
   ]
  },
  {
   "cell_type": "code",
   "execution_count": 168,
   "metadata": {},
   "outputs": [
    {
     "name": "stdout",
     "output_type": "stream",
     "text": [
      "0.6502503741564871\n"
     ]
    },
    {
     "data": {
      "image/png": "[encoded data removed]",
      "text/plain": [
       "<Figure size 360x360 with 1 Axes>"
      ]
     },
     "metadata": {
      "needs_background": "light"
     },
     "output_type": "display_data"
    }
   ],
   "source": [
    "import seaborn as sns\n",
    "import degas as dg\n",
    "FIGURE_PATH = \"../private_writing/figs/\"\n",
    "\n",
    "sns.displot(all_results, \n",
    "            x=\"score\", \n",
    "            kde=True,\n",
    "            stat=\"probability\",\n",
    "            color=(0.5, 0.5, 0.5),\n",
    "            linewidth=0,\n",
    "            bins=10,\n",
    "            #clip=(0.0, np.nanpercentile(all_results[\"score\"], 99.5)),\n",
    "            #kde=True, cut=0,\n",
    "            kde_kws={\"bw_method\" : 0.5}\n",
    "           )\n",
    "print(np.median(all_results[\"score\"]))\n",
    "plt.xlim([0, np.max(all_results[\"score\"])])\n",
    "plt.ylabel(\"Proportion of Systems\")\n",
    "plt.xlabel(\"Score (sMAPE)\")\n",
    "dg.fixed_aspect_ratio(1/2)\n",
    "# dg.better_savefig(FIGURE_PATH + f\"sfig_histogram_node.pdf\")"
   ]
  },
  {
   "cell_type": "code",
   "execution_count": 130,
   "metadata": {},
   "outputs": [
    {
     "name": "stdout",
     "output_type": "stream",
     "text": [
      "maximum_lyapunov_estimated    0.071778\n",
      "kaplan_yorke_dimension        0.014775\n",
      "multiscale_entropy           -0.020521\n",
      "correlation_dimension         0.007952\n",
      "score                         1.000000\n",
      "Name: score, dtype: float64\n",
      "Errors:  [0.00303999 0.00313347 0.00299106 0.00312839 0.        ]\n"
     ]
    },
    {
     "data": {
      "text/plain": [
       "[<matplotlib.lines.Line2D at 0x7ff84984a580>]"
      ]
     },
     "execution_count": 130,
     "metadata": {},
     "output_type": "execute_result"
    },
    {
     "data": {
      "image/png": "[encoded data removed]",
      "text/plain": [
       "<Figure size 432x288 with 1 Axes>"
      ]
     },
     "metadata": {
      "needs_background": "light"
     },
     "output_type": "display_data"
    }
   ],
   "source": [
    "from scipy.stats import sem\n",
    "\n",
    "df_full = all_properties.join(all_results)\n",
    "print(df_full.corr(method=\"spearman\").loc[\"score\"])\n",
    "\n",
    "## Bootstrap to estimate errors\n",
    "all_corrs = list()\n",
    "for i in range(1000):\n",
    "    sel_inds = np.random.choice(np.arange(df_full.shape[0]), df_full.shape[0], replace=True)\n",
    "    all_corrs.append((df_full.iloc[sel_inds]).corr(method=\"spearman\").loc[\"score\"])\n",
    "print(\"Errors: \", sem(np.array(all_corrs), axis=0))\n",
    "\n",
    "plt.semilogx(df_full[\"maximum_lyapunov_estimated\"], df_full[\"score\"], '.k')"
   ]
  },
  {
   "cell_type": "code",
   "execution_count": null,
   "metadata": {},
   "outputs": [],
   "source": []
  },
  {
   "cell_type": "code",
   "execution_count": null,
   "metadata": {},
   "outputs": [],
   "source": []
  },
  {
   "cell_type": "code",
   "execution_count": null,
   "metadata": {},
   "outputs": [],
   "source": []
  },
  {
   "cell_type": "code",
   "execution_count": null,
   "metadata": {},
   "outputs": [],
   "source": []
  },
  {
   "cell_type": "code",
   "execution_count": null,
   "metadata": {},
   "outputs": [],
   "source": []
  },
  {
   "cell_type": "code",
   "execution_count": null,
   "metadata": {},
   "outputs": [],
   "source": []
  },
  {
   "cell_type": "code",
   "execution_count": null,
   "metadata": {},
   "outputs": [],
   "source": []
  }
 ],
 "metadata": {
  "kernelspec": {
   "display_name": "dysts",
   "language": "python",
   "name": "python3"
  },
  "language_info": {
   "codemirror_mode": {
    "name": "ipython",
    "version": 3
   },
   "file_extension": ".py",
   "mimetype": "text/x-python",
   "name": "python",
   "nbconvert_exporter": "python",
   "pygments_lexer": "ipython3",
   "version": "3.10.4 (main, Mar 31 2022, 03:37:37) [Clang 12.0.0 ]"
  },
  "vscode": {
   "interpreter": {
    "hash": "e1cc31195109963c6e016809ebee99b50f88548c45dcc4a3553960052d4c35a0"
   }
  }
 },
 "nbformat": 4,
 "nbformat_minor": 4
}
