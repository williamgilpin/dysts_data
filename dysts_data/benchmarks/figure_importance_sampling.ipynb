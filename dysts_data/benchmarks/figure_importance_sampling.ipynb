{
 "cells": [
  {
   "cell_type": "markdown",
   "metadata": {},
   "source": [
    "### Imports"
   ]
  },
  {
   "cell_type": "code",
   "execution_count": 1,
   "metadata": {},
   "outputs": [],
   "source": [
    "import matplotlib.pyplot as plt\n",
    "import pandas as pd\n",
    "\n",
    "%matplotlib inline\n",
    "%load_ext autoreload\n",
    "%autoreload 2"
   ]
  },
  {
   "cell_type": "markdown",
   "metadata": {},
   "source": [
    "# Run experiments"
   ]
  },
  {
   "cell_type": "code",
   "execution_count": 8,
   "metadata": {},
   "outputs": [
    {
     "name": "stdout",
     "output_type": "stream",
     "text": [
      "Process is terminated.\n"
     ]
    }
   ],
   "source": [
    "%%bash\n",
    "\n",
    "python3 importance_sampling.py"
   ]
  },
  {
   "cell_type": "markdown",
   "metadata": {},
   "source": [
    "# Load and analyze results"
   ]
  },
  {
   "cell_type": "code",
   "execution_count": 16,
   "metadata": {},
   "outputs": [],
   "source": [
    "import json\n",
    "\n",
    "from scipy.stats import sem\n",
    "\n",
    "seme = lambda x: 1.2533 * sem(x)  # Standard error of median function\n",
    "import numpy as np\n",
    "\n",
    "with open(\"./results/importance_sampling.json\", \"r\") as file:\n",
    "    results = json.load(file)"
   ]
  },
  {
   "cell_type": "code",
   "execution_count": 17,
   "metadata": {},
   "outputs": [
    {
     "name": "stdout",
     "output_type": "stream",
     "text": [
      "base_score          1.002115\n",
      "importance_score    0.908937\n",
      "random_score        0.985666\n",
      "dtype: float64\n",
      "base_score          0.054580\n",
      "importance_score    0.054464\n",
      "random_score        0.054757\n",
      "dtype: float64 \n",
      "\n",
      "base_time          190.124137\n",
      "importance_time     94.608197\n",
      "random_time         77.949715\n",
      "dtype: float64\n",
      "base_time          0.308114\n",
      "importance_time    0.188631\n",
      "random_time        0.331367\n",
      "dtype: float64\n"
     ]
    }
   ],
   "source": [
    "model_names = [\"base_score\", \"importance_score\", \"random_score\"]\n",
    "data = dict()\n",
    "for item in results:\n",
    "    data[item] = dict()\n",
    "    try:\n",
    "        for model_name in model_names:\n",
    "            data[item][model_name] = results[item][model_name]\n",
    "    except:\n",
    "        pass\n",
    "data = pd.DataFrame(data).transpose()\n",
    "\n",
    "print(data.median())\n",
    "print(1.253 * data.sem(), \"\\n\")  # standard error of the median\n",
    "\n",
    "\n",
    "model_names = [\"base_time\", \"importance_time\", \"random_time\"]\n",
    "data = dict()\n",
    "for item in results:\n",
    "    data[item] = dict()\n",
    "    try:\n",
    "        for model_name in model_names:\n",
    "            data[item][model_name] = results[item][model_name]\n",
    "    except:\n",
    "        pass\n",
    "data = pd.DataFrame(data).transpose()\n",
    "\n",
    "print(data.median())\n",
    "print(1.253 * data.sem())  # standard error of the median"
   ]
  },
  {
   "cell_type": "code",
   "execution_count": 46,
   "metadata": {},
   "outputs": [
    {
     "name": "stdout",
     "output_type": "stream",
     "text": [
      "Ttest_relResult(statistic=469.5359225591638, pvalue=2.2107704507725607e-203)\n",
      "Ttest_relResult(statistic=-58.63392038447861, pvalue=2.8152983230247324e-92)\n"
     ]
    }
   ],
   "source": [
    "from scipy import stats\n",
    "\n",
    "print(\n",
    "    stats.ttest_rel(\n",
    "        data[\"base_time\"], \n",
    "        data[\"importance_time\"], \n",
    "        nan_policy=\"omit\"\n",
    "    )\n",
    ")\n",
    "\n",
    "print(\n",
    "    stats.ttest_rel(\n",
    "        data[\"random_time\"], \n",
    "        data[\"importance_time\"], \n",
    "        nan_policy=\"omit\"\n",
    "    )\n",
    ")"
   ]
  },
  {
   "cell_type": "code",
   "execution_count": null,
   "metadata": {},
   "outputs": [],
   "source": []
  },
  {
   "cell_type": "code",
   "execution_count": null,
   "metadata": {},
   "outputs": [],
   "source": []
  },
  {
   "cell_type": "code",
   "execution_count": null,
   "metadata": {},
   "outputs": [],
   "source": []
  },
  {
   "cell_type": "code",
   "execution_count": null,
   "metadata": {},
   "outputs": [],
   "source": []
  },
  {
   "cell_type": "code",
   "execution_count": null,
   "metadata": {},
   "outputs": [],
   "source": []
  },
  {
   "cell_type": "code",
   "execution_count": null,
   "metadata": {},
   "outputs": [],
   "source": []
  },
  {
   "cell_type": "code",
   "execution_count": null,
   "metadata": {},
   "outputs": [],
   "source": []
  },
  {
   "cell_type": "code",
   "execution_count": null,
   "metadata": {},
   "outputs": [],
   "source": []
  },
  {
   "cell_type": "code",
   "execution_count": null,
   "metadata": {},
   "outputs": [],
   "source": []
  }
 ],
 "metadata": {
  "kernelspec": {
   "display_name": "Python 3",
   "language": "python",
   "name": "python3"
  },
  "language_info": {
   "codemirror_mode": {
    "name": "ipython",
    "version": 3
   },
   "file_extension": ".py",
   "mimetype": "text/x-python",
   "name": "python",
   "nbconvert_exporter": "python",
   "pygments_lexer": "ipython3",
   "version": "3.8.10"
  }
 },
 "nbformat": 4,
 "nbformat_minor": 4
}
